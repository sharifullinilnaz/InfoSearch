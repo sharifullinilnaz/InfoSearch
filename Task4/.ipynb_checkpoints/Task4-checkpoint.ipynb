{
 "cells": [
  {
   "cell_type": "markdown",
   "metadata": {},
   "source": [
    "# Задание 4"
   ]
  },
  {
   "cell_type": "code",
   "execution_count": 1,
   "metadata": {},
   "outputs": [
    {
     "name": "stderr",
     "output_type": "stream",
     "text": [
      "[nltk_data] Downloading package stopwords to\n",
      "[nltk_data]     C:\\Users\\пк\\AppData\\Roaming\\nltk_data...\n",
      "[nltk_data]   Package stopwords is already up-to-date!\n"
     ]
    },
    {
     "data": {
      "text/plain": [
       "True"
      ]
     },
     "execution_count": 1,
     "metadata": {},
     "output_type": "execute_result"
    }
   ],
   "source": [
    "import re\n",
    "import nltk\n",
    "import json\n",
    "import math\n",
    "import string\n",
    "import pymorphy2\n",
    "from string import Template\n",
    "from nltk.corpus import stopwords\n",
    "nltk.download('stopwords')"
   ]
  },
  {
   "cell_type": "markdown",
   "metadata": {},
   "source": [
    "### Вычисление кол-ва слов на странице"
   ]
  },
  {
   "cell_type": "code",
   "execution_count": 2,
   "metadata": {},
   "outputs": [],
   "source": [
    "t = Template('{\\\"page_number\\\":$page_number,\\\"words_count\\\":$words_count}\\n')\n",
    "morph = pymorphy2.MorphAnalyzer(lang='ru')\n",
    "for i in range(0, 100):\n",
    "    words = []\n",
    "    with open('../pages/page№' + str(i + 1) + '.txt', encoding=\"utf-8\") as file:\n",
    "        page_strip = [row.strip().lower() for row in file]\n",
    "    words_line = []\n",
    "    for page_row in page_strip:\n",
    "        page_row = [token for token in page_row.split() if token not in stopwords.words('russian') and token != \" \" and token.strip() not in string.punctuation]\n",
    "        word_symbols = []\n",
    "        for word in page_row:\n",
    "            word_symbols.append(word)\n",
    "        words_line += [word_symbols]   \n",
    "    for word in words_line:\n",
    "        words += word\n",
    "    words = [w for w in filter(re.compile(\"^[а-яА-Я]+$\").match, words)]\n",
    "    with open('PageWords/pageWords№' + str(i + 1) + '.txt', \"w\", encoding=\"utf-8\") as tokens_file:\n",
    "        for token_elem in words:\n",
    "            tokens_file.write(token_elem + '\\n')\n",
    "    with open('pages_words_count.txt', \"a\", encoding=\"utf-8\") as counts_file:\n",
    "        counts_file.write(t.substitute(page_number = i + 1, words_count = len(words)))"
   ]
  },
  {
   "cell_type": "markdown",
   "metadata": {},
   "source": [
    "### Вычисление кол-ва индексов на страницах"
   ]
  },
  {
   "cell_type": "code",
   "execution_count": 3,
   "metadata": {},
   "outputs": [],
   "source": [
    "indexes = {}\n",
    "morph = pymorphy2.MorphAnalyzer(lang='ru')\n",
    "temp = Template('\\'$page_number\\': $count')\n",
    "for i in range(0, 100):\n",
    "    words = []\n",
    "    with open('../pages/page№' + str(i + 1) + '.txt', encoding=\"utf-8\") as file:\n",
    "        page_strip = [row.strip().lower() for row in file]\n",
    "    words_line = []\n",
    "    for page_row in page_strip:\n",
    "        page_row = [token for token in page_row.split() if token not in stopwords.words('russian') and token != \" \" and token.strip() not in string.punctuation]\n",
    "        word_symbols = []\n",
    "        for word in page_row:\n",
    "            word_symbols.append(word)\n",
    "        words_line += [word_symbols]   \n",
    "    for word in words_line:\n",
    "        words += word\n",
    "    words = [w for w in filter(re.compile(\"^[а-яА-Я]+$\").match, words)]\n",
    "    words_indexes = list(dict.fromkeys(words))\n",
    "    for index in words_indexes:\n",
    "        if index in indexes.keys():\n",
    "            indexes[index].append(temp.substitute(page_number = i + 1, count = words.count(index)))\n",
    "        else:\n",
    "            indexes[index] = [temp.substitute(page_number = i + 1, count = words.count(index))]\n",
    "\n",
    "t = Template('{\\\"count\\\":$count,\\\"inverted_array\\\":{$array},\\\"word\\\":\\\"$word\\\"}\\n')\n",
    "with open('inverted_index_counts.txt', \"w\", encoding=\"utf-8\") as inverted_index_counts_file:\n",
    "    for index_elem in indexes:\n",
    "        inverted_index_counts_file.write(t.substitute(count = str(len(indexes[index_elem])),\n",
    "                                          array = ','.join([str(x) for x in indexes[index_elem]]),\n",
    "                                          word = index_elem))"
   ]
  },
  {
   "cell_type": "markdown",
   "metadata": {},
   "source": [
    "### Вычисление кол-ва лемм на страницах"
   ]
  },
  {
   "cell_type": "code",
   "execution_count": 4,
   "metadata": {},
   "outputs": [],
   "source": [
    "with open('inverted_index_counts.txt', encoding=\"utf-8\") as file_with_indexes_counts:\n",
    "    inverted_index_counts = [row.strip() for row in file_with_indexes_counts]\n",
    "indexes = {}\n",
    "for row in inverted_index_counts:\n",
    "    row = row.replace('\\'', '\\\"')\n",
    "    jsonIndex = json.loads(row)\n",
    "    indexes[jsonIndex[\"word\"]] = [jsonIndex[\"inverted_array\"], jsonIndex[\"count\"]]\n",
    "    \n",
    "with open('../data/lemms.txt', encoding=\"utf-8\") as file_with_lemms:\n",
    "    lemms_data = [row.strip() for row in file_with_lemms]\n",
    "lemms_data_json = {}\n",
    "for row in lemms_data:\n",
    "    arr = row.split(':')\n",
    "    lemms_data_json[arr[0]] = arr[1].strip().split(' ')\n",
    "\n",
    "t = Template('{\\\"count\\\":$count,\\\"inverted_array\\\":{$array},\\\"word\\\":\\\"$word\\\"}\\n')\n",
    "for lemm in lemms_data_json:\n",
    "    page_counts = {}\n",
    "    for index in indexes:\n",
    "        if index in lemms_data_json[lemm]:\n",
    "            for i in indexes[index][0]:\n",
    "                if (i in page_counts.keys()):\n",
    "                    new_count = page_counts.get(i) + indexes[index][0][i]\n",
    "                    page_counts[i] = new_count\n",
    "                else:\n",
    "                    page_counts[i] = indexes[index][0][i]\n",
    "    with open('lemms_counts.txt', \"a\", encoding=\"utf-8\") as file_with_lemms_counts:\n",
    "        file_with_lemms_counts.write(t.substitute(count = str(len(page_counts)),\n",
    "                                              array = ','.join([\"\\'\" + str(x) + \"\\'\" + \": \" + str(page_counts[x]) for x in page_counts]),\n",
    "                                              word = lemm))"
   ]
  },
  {
   "cell_type": "markdown",
   "metadata": {},
   "source": [
    "### Вычисления tf idf"
   ]
  },
  {
   "cell_type": "code",
   "execution_count": 5,
   "metadata": {},
   "outputs": [],
   "source": [
    "termins_tf_idf = []\n",
    "lemms_tf_idf = []\n",
    "for i in range(0, 100):\n",
    "    termins_tf_idf.append({})\n",
    "    lemms_tf_idf.append({})\n",
    "    \n",
    "with open('inverted_index_counts.txt', encoding=\"utf-8\") as file_with_indexes_counts:\n",
    "    inverted_index_counts = [row.strip() for row in file_with_indexes_counts]\n",
    "indexes = {}\n",
    "for row in inverted_index_counts:\n",
    "    row = row.replace('\\'', '\\\"')\n",
    "    jsonIndex = json.loads(row)\n",
    "    indexes[jsonIndex[\"word\"]] = [jsonIndex[\"count\"],jsonIndex[\"inverted_array\"]]\n",
    "    \n",
    "with open('lemms_counts.txt', encoding=\"utf-8\") as file_with_lemms_counts:\n",
    "    lemms_counts = [row.strip() for row in file_with_lemms_counts]\n",
    "lemms = {}\n",
    "for row in lemms_counts:\n",
    "    row = row.replace('\\'', '\\\"')\n",
    "    jsonCount = json.loads(row)\n",
    "    lemms[jsonCount[\"word\"]] = [jsonCount[\"count\"], jsonCount[\"inverted_array\"]]\n",
    "    \n",
    "with open('pages_words_count.txt', encoding=\"utf-8\") as pages_words_count_file:\n",
    "    pages_words_counts = [row.strip() for row in pages_words_count_file]\n",
    "page_words_count_dict = {}\n",
    "for row in pages_words_counts:\n",
    "    row = row.replace('\\'', '\\\"')\n",
    "    jsonCount = json.loads(row)\n",
    "    page_words_count_dict[jsonCount[\"page_number\"]] = jsonCount[\"words_count\"]\n",
    "\n",
    "for index in indexes:\n",
    "    for page_number in indexes[index][1]:\n",
    "        termins_tf_idf[int(page_number)-1].update({index:[indexes[index][1][page_number]/page_words_count_dict[int(page_number)],\n",
    "                                  math.log(100/indexes[index][0])]})\n",
    "for lemm in lemms:\n",
    "    for page_number in lemms[lemm][1]:\n",
    "        lemms_tf_idf[int(page_number)-1].update({lemm:[lemms[lemm][1][page_number]/page_words_count_dict[int(page_number)],\n",
    "                                  math.log(100/lemms[lemm][0])]})\n",
    "\n",
    "for i in range(0,100):\n",
    "    with open('Task4data/termins_tf_idf_site№' + str(i + 1) + '.txt', \"w\", encoding=\"utf-8\") as termins_file:\n",
    "        for j in termins_tf_idf[i]:\n",
    "            termins_file.write(j + ' ' + str(termins_tf_idf[i][j][1]) + ' ' + str(termins_tf_idf[i][j][0]) + '\\n')\n",
    "    with open('Task4data/lemms_tf_idf_site№' + str(i + 1) + '.txt', \"w\", encoding=\"utf-8\") as lemms_file:\n",
    "        for j in lemms_tf_idf[i]:\n",
    "            lemms_file.write(j + ' ' + str(lemms_tf_idf[i][j][1]) + ' ' + str(lemms_tf_idf[i][j][0]) + '\\n')"
   ]
  }
 ],
 "metadata": {
  "kernelspec": {
   "display_name": "Python 3",
   "language": "python",
   "name": "python3"
  },
  "language_info": {
   "codemirror_mode": {
    "name": "ipython",
    "version": 3
   },
   "file_extension": ".py",
   "mimetype": "text/x-python",
   "name": "python",
   "nbconvert_exporter": "python",
   "pygments_lexer": "ipython3",
   "version": "3.7.4"
  }
 },
 "nbformat": 4,
 "nbformat_minor": 2
}
