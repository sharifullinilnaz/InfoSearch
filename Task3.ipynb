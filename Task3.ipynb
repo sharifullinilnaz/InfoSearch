{
 "cells": [
  {
   "cell_type": "markdown",
   "metadata": {},
   "source": [
    "# Задание 3"
   ]
  },
  {
   "cell_type": "code",
   "execution_count": 5,
   "metadata": {},
   "outputs": [
    {
     "name": "stderr",
     "output_type": "stream",
     "text": [
      "[nltk_data] Downloading package stopwords to\n",
      "[nltk_data]     C:\\Users\\пк\\AppData\\Roaming\\nltk_data...\n",
      "[nltk_data]   Package stopwords is already up-to-date!\n"
     ]
    },
    {
     "data": {
      "text/plain": [
       "True"
      ]
     },
     "execution_count": 5,
     "metadata": {},
     "output_type": "execute_result"
    }
   ],
   "source": [
    "import re\n",
    "import nltk\n",
    "import json\n",
    "import string\n",
    "import pymorphy2\n",
    "from string import Template\n",
    "from nltk.corpus import stopwords\n",
    "nltk.download('stopwords')"
   ]
  },
  {
   "cell_type": "code",
   "execution_count": 22,
   "metadata": {},
   "outputs": [],
   "source": [
    "indexes = {}\n",
    "morph = pymorphy2.MorphAnalyzer(lang='ru')\n",
    "for i in range(0, 100):\n",
    "    words = []\n",
    "    with open('pages/page№' + str(i + 1) + '.txt', encoding=\"utf-8\") as file:\n",
    "        page_strip = [row.strip().lower() for row in file]\n",
    "    words_line = []\n",
    "    for page_row in page_strip:\n",
    "        page_row = [token for token in page_row.split() if token not in stopwords.words('russian') and token != \" \" and token.strip() not in string.punctuation]\n",
    "        word_symbols = []\n",
    "        for word in page_row:\n",
    "            word_symbols.append(word)\n",
    "        words_line += [word_symbols]   \n",
    "    for word in words_line:\n",
    "        words += word\n",
    "    words = [w for w in filter(re.compile(\"^[а-яА-Я]+$\").match, words)]\n",
    "    words = list(dict.fromkeys(words))\n",
    "    for index in words:\n",
    "        if index in indexes.keys():\n",
    "            indexes[index].append(i + 1)\n",
    "        else:\n",
    "            indexes[index] = [i + 1]\n",
    "\n",
    "with open('inverted_index.txt', \"w\", encoding=\"utf-8\") as inverted_index_file:\n",
    "    for index_elem in indexes:\n",
    "        t = Template('{\\\"count\\\":$count,\\\"inverted_array\\\":[$array],\\\"word\\\":\\\"$word\\\"}\\n')\n",
    "        inverted_index_file.write(t.substitute(count = str(len(indexes[index_elem])),\n",
    "                                          array = ','.join([str(x) for x in indexes[index_elem]]),\n",
    "                                          word = index_elem))"
   ]
  },
  {
   "cell_type": "code",
   "execution_count": 8,
   "metadata": {},
   "outputs": [
    {
     "name": "stdout",
     "output_type": "stream",
     "text": [
      "индустрия среднего\n",
      "Поиск по словам : индустрия,среднего\n",
      "\n",
      "Найдено в файлах с номерами : 1,3,25\n",
      "\n",
      "[1, 3, 25]\n"
     ]
    }
   ],
   "source": [
    "words_set = []\n",
    "searching_text = input().lower()\n",
    "searching_words = [token for token in searching_text.split() if token not in stopwords.words('russian') and token != \" \" and token.strip() not in string.punctuation]\n",
    "word_symbols = []\n",
    "words_line = []\n",
    "for word in searching_words:\n",
    "    word_symbols.append(word)\n",
    "words_line += [word_symbols]\n",
    "for word in words_line:\n",
    "    words_set += word\n",
    "words_set = [w for w in filter(re.compile(\"^[а-яА-Я]+$\").match, words_set)]\n",
    "t = Template('Поиск по словам : $words\\n')\n",
    "print(t.substitute(words = ','.join([str(x) for x in words_set])))\n",
    "\n",
    "with open('inverted_index.txt', encoding=\"utf-8\") as file:\n",
    "    rows = [row.strip() for row in file]\n",
    "count_words = {}\n",
    "for row in rows:\n",
    "    jsonData = json.loads(row.replace('\\'', '\\\"'))\n",
    "    count_words[jsonData[\"word\"]] = jsonData[\"inverted_array\"]\n",
    "\n",
    "mas_res = {}\n",
    "for word in words_set:\n",
    "    mas_res[word] = count_words[word] if word in count_words.keys() else []\n",
    "\n",
    "counter = 0\n",
    "result = []\n",
    "for elem in mas_res:\n",
    "    counter += 1\n",
    "    result = mas_res[elem] if counter == 1 else list(set(result) & set(mas_res[elem]))\n",
    "\n",
    "with open('search_result.txt', \"w\", encoding=\"utf-8\") as f:\n",
    "    for key in result:\n",
    "        try:\n",
    "            f.write(str(key) + '\\n')\n",
    "        except Exception as e:\n",
    "            print( \"Something went wrong...\\nerror: %s\" % e)\n",
    "    f.close()\n",
    "    \n",
    "t = Template('Найдено в файлах с номерами : $pages\\n')\n",
    "print(t.substitute(pages = ','.join([str(x) for x in result])))\n",
    "print(result)"
   ]
  }
 ],
 "metadata": {
  "kernelspec": {
   "display_name": "Python 3",
   "language": "python",
   "name": "python3"
  }
 },
 "nbformat": 4,
 "nbformat_minor": 2
}
