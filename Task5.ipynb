{
 "cells": [
  {
   "cell_type": "markdown",
   "id": "b8ca4372",
   "metadata": {},
   "source": [
    "# Задание 5"
   ]
  },
  {
   "cell_type": "code",
   "execution_count": 11,
   "id": "62bde897",
   "metadata": {},
   "outputs": [
    {
     "name": "stderr",
     "output_type": "stream",
     "text": [
      "[nltk_data] Downloading package stopwords to\n",
      "[nltk_data]     C:\\Users\\пк\\AppData\\Roaming\\nltk_data...\n",
      "[nltk_data]   Package stopwords is already up-to-date!\n"
     ]
    },
    {
     "data": {
      "text/plain": [
       "True"
      ]
     },
     "execution_count": 11,
     "metadata": {},
     "output_type": "execute_result"
    }
   ],
   "source": [
    "import re\n",
    "import nltk\n",
    "import json\n",
    "import math\n",
    "import string\n",
    "import pymorphy2\n",
    "import numpy as np\n",
    "from scipy import spatial\n",
    "from string import Template\n",
    "from nltk.corpus import stopwords\n",
    "from pymorphy2 import MorphAnalyzer\n",
    "nltk.download('stopwords')"
   ]
  },
  {
   "cell_type": "code",
   "execution_count": 12,
   "id": "ea9a202a",
   "metadata": {},
   "outputs": [
    {
     "name": "stdout",
     "output_type": "stream",
     "text": [
      "хрущев\n",
      "dict_items([(1, 0.0), (2, 0.0), (3, 0.0), (4, 0.0), (5, 0.0), (6, 0.0), (7, 0.0), (8, 0.0), (9, 0.0), (10, 0.0), (11, 0.0), (12, 0.0), (13, 0.0), (14, 0.0), (15, 0.0), (16, 0.0), (17, 0.0), (18, 0.0), (19, 0.0), (20, 0.0), (21, 0.0), (22, 0.0), (23, 0.0), (24, 0.0), (25, 0.0), (26, 0.0), (27, 0.0), (28, 0.0), (29, 0.0), (30, 0.0), (31, 0.0), (32, 0.0), (33, 0.0), (34, 0.0), (35, 0.0), (36, 0.0), (37, 0.0), (38, 0.0), (39, 0.0), (40, 0.0), (41, 0.0), (42, 0.0), (43, 0.0), (44, 0.0), (45, 0.0), (46, 0.0), (47, 0.0), (48, 0.0), (49, 0.0), (50, 0.0), (51, 0.0), (52, 0.0), (53, 0.0), (54, 0.0), (55, 0.0), (56, 0.045454545454545414), (57, 0.0), (58, 0.0), (59, 0.0), (60, 0.0), (61, 0.0), (62, 0.0), (63, 0.0), (64, 0.0), (65, 0.0), (66, 0.0), (67, 0.0), (68, 0.0), (69, 0.0), (70, 0.0), (71, 0.0), (72, 0.0), (73, 0.0), (74, 0.0), (75, 0.0), (76, 0.0), (77, 0.0), (78, 0.0), (79, 0.0), (80, 0.0), (81, 0.0), (82, 0.0), (83, 0.0), (84, 0.0), (85, 0.0), (86, 0.0), (87, 0.0), (88, 0.0), (89, 0.0), (90, 0.0), (91, 0.0), (92, 0.0), (93, 0.0), (94, 0.0), (95, 0.0), (96, 0.0), (97, 0.0), (98, 0.0), (99, 0.0), (100, 0.0)])\n"
     ]
    }
   ],
   "source": [
    "def vector_search(input_text):\n",
    "    with open('Task4/lemms_counts.txt', 'r', encoding='utf-8') as file:\n",
    "        rows = [row.strip() for row in file]\n",
    "    index = 0\n",
    "    matrix = [[0] * 100 for _ in range(len(rows))]\n",
    "    lemms = list()\n",
    "    for row in rows:\n",
    "        jsonLemms = json.loads(row.replace('\\'', '\\\"'))\n",
    "        lemm = jsonLemms[\"word\"]\n",
    "        lemms.append(lemm)\n",
    "        pages = jsonLemms[\"inverted_array\"]\n",
    "        for page in pages:\n",
    "            matrix[index][int(page) - 1] = 1\n",
    "        index = index + 1\n",
    "    matrix = np.array(matrix).transpose()\n",
    "    input_text = [token for token in input_text.lower().split() if token not in stopwords.words('russian') and token != \" \" and token.strip() not in string.punctuation]\n",
    "    tokens = []\n",
    "    for word in input_text:\n",
    "        tokens.append(word)\n",
    "    normal_form = [pymorphy2.MorphAnalyzer(lang='ru').parse(token)[0].normal_form for token in tokens]\n",
    "    vector = [0] * len(lemms)\n",
    "    for token in normal_form:\n",
    "        if token in lemms:\n",
    "            vector[lemms.index(token)] = 1\n",
    "    document = dict()\n",
    "    for index, doc in enumerate(matrix):\n",
    "        document[index + 1] = 1 - spatial.distance.cosine(vector, doc) if max(doc) == 1 else 0.0\n",
    "    return document.items()\n",
    "\n",
    "txt = input()\n",
    "print(vector_search(txt))"
   ]
  },
  {
   "cell_type": "code",
   "execution_count": null,
   "id": "79a93616",
   "metadata": {},
   "outputs": [],
   "source": []
  },
  {
   "cell_type": "code",
   "execution_count": null,
   "id": "1291967c",
   "metadata": {},
   "outputs": [],
   "source": []
  }
 ],
 "metadata": {
  "kernelspec": {
   "display_name": "Python 3 (ipykernel)",
   "language": "python",
   "name": "python3"
  },
  "language_info": {
   "codemirror_mode": {
    "name": "ipython",
    "version": 3
   },
   "file_extension": ".py",
   "mimetype": "text/x-python",
   "name": "python",
   "nbconvert_exporter": "python",
   "pygments_lexer": "ipython3",
   "version": "3.10.4"
  }
 },
 "nbformat": 4,
 "nbformat_minor": 5
}
