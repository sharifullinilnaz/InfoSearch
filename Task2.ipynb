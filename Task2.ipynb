{
 "cells": [
  {
   "cell_type": "markdown",
   "metadata": {},
   "source": [
    "# Задание 2"
   ]
  },
  {
   "cell_type": "code",
   "execution_count": 56,
   "metadata": {},
   "outputs": [
    {
     "name": "stderr",
     "output_type": "stream",
     "text": [
      "[nltk_data] Downloading package stopwords to\n",
      "[nltk_data]     C:\\Users\\пк\\AppData\\Roaming\\nltk_data...\n",
      "[nltk_data]   Package stopwords is already up-to-date!\n"
     ]
    },
    {
     "data": {
      "text/plain": [
       "True"
      ]
     },
     "execution_count": 56,
     "metadata": {},
     "output_type": "execute_result"
    }
   ],
   "source": [
    "import re\n",
    "import nltk\n",
    "import string\n",
    "import pymorphy2\n",
    "from nltk.corpus import stopwords\n",
    "nltk.download('stopwords')"
   ]
  },
  {
   "cell_type": "code",
   "execution_count": 57,
   "metadata": {},
   "outputs": [],
   "source": [
    "words = []\n",
    "morph = pymorphy2.MorphAnalyzer(lang='ru')\n",
    "for i in range(0, 100):\n",
    "    with open('pages/page№' + str(i + 1) + '.txt', encoding=\"utf-8\") as file:\n",
    "        page_strip = [row.strip().lower() for row in file]\n",
    "    words_line = []\n",
    "    for page_row in page_strip:\n",
    "        page_row = [token for token in page_row.split() if token not in stopwords.words('russian') and token != \" \" and token.strip() not in string.punctuation]\n",
    "        word_symbols = []\n",
    "        for word in page_row:\n",
    "            word_symbols.append(word)\n",
    "        words_line += [word_symbols]   \n",
    "    for word in words_line:\n",
    "        words += word\n",
    "    words = [w for w in filter(re.compile(\"^[а-яА-Я]+$\").match, words)]\n",
    "\n",
    "words = list(dict.fromkeys(words))\n",
    "with open('data/tokens.txt', \"w\", encoding=\"utf-8\") as tokens_file:\n",
    "    for token_elem in words:\n",
    "        tokens_file.write(token_elem + '\\n')"
   ]
  },
  {
   "cell_type": "code",
   "execution_count": 58,
   "metadata": {},
   "outputs": [],
   "source": [
    "lemms = {}\n",
    "with open('data/tokens.txt', encoding=\"utf-8\") as file_with_tokens:\n",
    "    tokens = [row.strip() for row in file_with_tokens]\n",
    "\n",
    "for token_el in tokens:\n",
    "    normal_form = pymorphy2.MorphAnalyzer(lang='ru').parse(token_el)[0].normal_form\n",
    "    if normal_form in lemms.keys():\n",
    "        lemms[normal_form].append(token_el)\n",
    "    else:\n",
    "        lemms[normal_form] = [token_el]\n",
    "with open('data/lemms.txt', \"w\", encoding=\"utf-8\") as file_with_lemms:\n",
    "    for key in lemms:\n",
    "        file_with_lemms.write(key + ': ')\n",
    "        for token_el in lemms[key]:\n",
    "            file_with_lemms.write(token_el + ' ')\n",
    "        file_with_lemms.write('\\n')"
   ]
  },
  {
   "cell_type": "code",
   "execution_count": null,
   "metadata": {},
   "outputs": [],
   "source": []
  }
 ],
 "metadata": {
  "kernelspec": {
   "display_name": "Python 3 (ipykernel)",
   "language": "python",
   "name": "python3"
  },
  "language_info": {
   "codemirror_mode": {
    "name": "ipython",
    "version": 3
   },
   "file_extension": ".py",
   "mimetype": "text/x-python",
   "name": "python",
   "nbconvert_exporter": "python",
   "pygments_lexer": "ipython3",
   "version": "3.10.4"
  }
 },
 "nbformat": 4,
 "nbformat_minor": 2
}
