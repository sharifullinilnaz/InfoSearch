{
 "cells": [
  {
   "cell_type": "markdown",
   "metadata": {},
   "source": [
    "# Задание 1"
   ]
  },
  {
   "cell_type": "code",
   "execution_count": 49,
   "metadata": {},
   "outputs": [],
   "source": [
    "import urllib\n",
    "from random import randrange\n",
    "\n",
    "counter = 0\n",
    "with open('data/index.txt', 'w') as i:\n",
    "    with open('data/links.txt') as link:\n",
    "        while counter!=100:\n",
    "            for line in link:\n",
    "                counter +=1\n",
    "                try:\n",
    "                    file_name = 'pages/' + 'page№' +  str(counter) + '.txt'\n",
    "                    urllib.request.urlretrieve(line, file_name)\n",
    "                    i.write(line.replace(line, \"\") + str(counter) + ': ' + line + '\\n')\n",
    "                except Exception as e:\n",
    "                    print( \"Something went wrong...\\nerror: %s\" % e)\n",
    "                    i.close()\n",
    "    i.close()"
   ]
  },
  {
   "cell_type": "code",
   "execution_count": null,
   "metadata": {},
   "outputs": [],
   "source": []
  }
 ],
 "metadata": {
  "kernelspec": {
   "display_name": "Python 3 (ipykernel)",
   "language": "python",
   "name": "python3"
  },
  "language_info": {
   "codemirror_mode": {
    "name": "ipython",
    "version": 3
   },
   "file_extension": ".py",
   "mimetype": "text/x-python",
   "name": "python",
   "nbconvert_exporter": "python",
   "pygments_lexer": "ipython3",
   "version": "3.10.4"
  }
 },
 "nbformat": 4,
 "nbformat_minor": 2
}
